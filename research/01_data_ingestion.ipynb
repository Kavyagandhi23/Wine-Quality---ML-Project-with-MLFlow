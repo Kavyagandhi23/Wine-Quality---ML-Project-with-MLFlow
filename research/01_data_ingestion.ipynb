{
 "cells": [
  {
   "cell_type": "code",
   "execution_count": 1,
   "metadata": {},
   "outputs": [],
   "source": [
    "import os"
   ]
  },
  {
   "cell_type": "code",
   "execution_count": 2,
   "metadata": {},
   "outputs": [
    {
     "data": {
      "text/plain": [
       "'d:\\\\Projects\\\\Wine-Quality---ML-Project-with-MLFlow\\\\research'"
      ]
     },
     "execution_count": 2,
     "metadata": {},
     "output_type": "execute_result"
    }
   ],
   "source": [
    "%pwd"
   ]
  },
  {
   "cell_type": "code",
   "execution_count": 3,
   "metadata": {},
   "outputs": [],
   "source": [
    "os.chdir(\"../\")"
   ]
  },
  {
   "cell_type": "code",
   "execution_count": 4,
   "metadata": {},
   "outputs": [
    {
     "data": {
      "text/plain": [
       "'d:\\\\Projects\\\\Wine-Quality---ML-Project-with-MLFlow'"
      ]
     },
     "execution_count": 4,
     "metadata": {},
     "output_type": "execute_result"
    }
   ],
   "source": [
    "%pwd"
   ]
  },
  {
   "cell_type": "code",
   "execution_count": 5,
   "metadata": {},
   "outputs": [],
   "source": [
    "from dataclasses import dataclass\n",
    "from pathlib import Path\n",
    "\n",
    "@dataclass(frozen=True)\n",
    "class DataIngestionConfig:\n",
    "    root_dir: Path\n",
    "    source_URL: str\n",
    "    local_data_file:Path\n",
    "    unzip_dir: Path"
   ]
  },
  {
   "cell_type": "code",
   "execution_count": 6,
   "metadata": {},
   "outputs": [
    {
     "name": "stdout",
     "output_type": "stream",
     "text": [
      "Requirement already satisfied: pandas in c:\\users\\preet\\myenv\\lib\\site-packages (2.0.3)\n",
      "Requirement already satisfied: python-dateutil>=2.8.2 in c:\\users\\preet\\myenv\\lib\\site-packages (from pandas) (2.8.2)\n",
      "Requirement already satisfied: pytz>=2020.1 in c:\\users\\preet\\myenv\\lib\\site-packages (from pandas) (2023.3.post1)\n",
      "Requirement already satisfied: tzdata>=2022.1 in c:\\users\\preet\\myenv\\lib\\site-packages (from pandas) (2023.4)\n",
      "Requirement already satisfied: numpy>=1.20.3 in c:\\users\\preet\\myenv\\lib\\site-packages (from pandas) (1.24.4)\n",
      "Requirement already satisfied: six>=1.5 in c:\\users\\preet\\myenv\\lib\\site-packages (from python-dateutil>=2.8.2->pandas) (1.16.0)\n"
     ]
    },
    {
     "name": "stderr",
     "output_type": "stream",
     "text": [
      "WARNING: Ignoring invalid distribution -ython-box (c:\\users\\preet\\myenv\\lib\\site-packages)\n",
      "WARNING: Ignoring invalid distribution -ython-box (c:\\users\\preet\\myenv\\lib\\site-packages)\n"
     ]
    },
    {
     "name": "stdout",
     "output_type": "stream",
     "text": [
      "Requirement already satisfied: mlflow in c:\\users\\preet\\myenv\\lib\\site-packages (2.9.2)\n",
      "Requirement already satisfied: click<9,>=7.0 in c:\\users\\preet\\myenv\\lib\\site-packages (from mlflow) (8.1.7)\n",
      "Requirement already satisfied: cloudpickle<4 in c:\\users\\preet\\myenv\\lib\\site-packages (from mlflow) (3.0.0)\n",
      "Requirement already satisfied: databricks-cli<1,>=0.8.7 in c:\\users\\preet\\myenv\\lib\\site-packages (from mlflow) (0.18.0)\n",
      "Requirement already satisfied: entrypoints<1 in c:\\users\\preet\\myenv\\lib\\site-packages (from mlflow) (0.4)\n",
      "Requirement already satisfied: gitpython<4,>=2.1.0 in c:\\users\\preet\\myenv\\lib\\site-packages (from mlflow) (3.1.40)\n",
      "Requirement already satisfied: pyyaml<7,>=5.1 in c:\\users\\preet\\myenv\\lib\\site-packages (from mlflow) (6.0.1)\n",
      "Requirement already satisfied: protobuf<5,>=3.12.0 in c:\\users\\preet\\myenv\\lib\\site-packages (from mlflow) (4.25.1)\n",
      "Requirement already satisfied: pytz<2024 in c:\\users\\preet\\myenv\\lib\\site-packages (from mlflow) (2023.3.post1)\n",
      "Requirement already satisfied: requests<3,>=2.17.3 in c:\\users\\preet\\myenv\\lib\\site-packages (from mlflow) (2.31.0)\n",
      "Requirement already satisfied: packaging<24 in c:\\users\\preet\\myenv\\lib\\site-packages (from mlflow) (23.2)\n",
      "Requirement already satisfied: importlib-metadata!=4.7.0,<8,>=3.7.0 in c:\\users\\preet\\myenv\\lib\\site-packages (from mlflow) (7.0.1)\n",
      "Requirement already satisfied: sqlparse<1,>=0.4.0 in c:\\users\\preet\\myenv\\lib\\site-packages (from mlflow) (0.4.4)\n",
      "Requirement already satisfied: alembic!=1.10.0,<2 in c:\\users\\preet\\myenv\\lib\\site-packages (from mlflow) (1.13.1)\n",
      "Requirement already satisfied: docker<7,>=4.0.0 in c:\\users\\preet\\myenv\\lib\\site-packages (from mlflow) (6.1.3)\n",
      "Requirement already satisfied: Flask<4 in c:\\users\\preet\\myenv\\lib\\site-packages (from mlflow) (3.0.0)\n",
      "Requirement already satisfied: numpy<2 in c:\\users\\preet\\myenv\\lib\\site-packages (from mlflow) (1.24.4)\n",
      "Requirement already satisfied: scipy<2 in c:\\users\\preet\\myenv\\lib\\site-packages (from mlflow) (1.10.1)\n",
      "Requirement already satisfied: pandas<3 in c:\\users\\preet\\myenv\\lib\\site-packages (from mlflow) (2.0.3)\n",
      "Requirement already satisfied: querystring-parser<2 in c:\\users\\preet\\myenv\\lib\\site-packages (from mlflow) (1.2.4)\n",
      "Requirement already satisfied: sqlalchemy<3,>=1.4.0 in c:\\users\\preet\\myenv\\lib\\site-packages (from mlflow) (2.0.25)\n",
      "Requirement already satisfied: scikit-learn<2 in c:\\users\\preet\\myenv\\lib\\site-packages (from mlflow) (1.3.2)\n",
      "Requirement already satisfied: pyarrow<15,>=4.0.0 in c:\\users\\preet\\myenv\\lib\\site-packages (from mlflow) (14.0.2)\n",
      "Requirement already satisfied: markdown<4,>=3.3 in c:\\users\\preet\\myenv\\lib\\site-packages (from mlflow) (3.5.1)\n",
      "Requirement already satisfied: matplotlib<4 in c:\\users\\preet\\myenv\\lib\\site-packages (from mlflow) (3.7.4)\n",
      "Requirement already satisfied: waitress<3 in c:\\users\\preet\\myenv\\lib\\site-packages (from mlflow) (2.1.2)\n",
      "Requirement already satisfied: Jinja2<4,>=3.0 in c:\\users\\preet\\myenv\\lib\\site-packages (from mlflow) (3.1.2)\n",
      "Requirement already satisfied: Mako in c:\\users\\preet\\myenv\\lib\\site-packages (from alembic!=1.10.0,<2->mlflow) (1.3.0)\n",
      "Requirement already satisfied: typing-extensions>=4 in c:\\users\\preet\\myenv\\lib\\site-packages (from alembic!=1.10.0,<2->mlflow) (4.9.0)\n",
      "Requirement already satisfied: importlib-resources in c:\\users\\preet\\myenv\\lib\\site-packages (from alembic!=1.10.0,<2->mlflow) (6.1.1)\n",
      "Requirement already satisfied: colorama in c:\\users\\preet\\myenv\\lib\\site-packages (from click<9,>=7.0->mlflow) (0.4.6)\n",
      "Requirement already satisfied: pyjwt>=1.7.0 in c:\\users\\preet\\myenv\\lib\\site-packages (from databricks-cli<1,>=0.8.7->mlflow) (2.8.0)\n",
      "Requirement already satisfied: oauthlib>=3.1.0 in c:\\users\\preet\\myenv\\lib\\site-packages (from databricks-cli<1,>=0.8.7->mlflow) (3.2.2)\n",
      "Requirement already satisfied: tabulate>=0.7.7 in c:\\users\\preet\\myenv\\lib\\site-packages (from databricks-cli<1,>=0.8.7->mlflow) (0.9.0)\n",
      "Requirement already satisfied: six>=1.10.0 in c:\\users\\preet\\myenv\\lib\\site-packages (from databricks-cli<1,>=0.8.7->mlflow) (1.16.0)\n",
      "Requirement already satisfied: urllib3<3,>=1.26.7 in c:\\users\\preet\\myenv\\lib\\site-packages (from databricks-cli<1,>=0.8.7->mlflow) (2.1.0)\n",
      "Requirement already satisfied: websocket-client>=0.32.0 in c:\\users\\preet\\myenv\\lib\\site-packages (from docker<7,>=4.0.0->mlflow) (1.7.0)\n",
      "Requirement already satisfied: pywin32>=304 in c:\\users\\preet\\myenv\\lib\\site-packages (from docker<7,>=4.0.0->mlflow) (306)\n",
      "Requirement already satisfied: Werkzeug>=3.0.0 in c:\\users\\preet\\myenv\\lib\\site-packages (from Flask<4->mlflow) (3.0.1)\n",
      "Requirement already satisfied: itsdangerous>=2.1.2 in c:\\users\\preet\\myenv\\lib\\site-packages (from Flask<4->mlflow) (2.1.2)\n",
      "Requirement already satisfied: blinker>=1.6.2 in c:\\users\\preet\\myenv\\lib\\site-packages (from Flask<4->mlflow) (1.7.0)\n",
      "Requirement already satisfied: gitdb<5,>=4.0.1 in c:\\users\\preet\\myenv\\lib\\site-packages (from gitpython<4,>=2.1.0->mlflow) (4.0.11)\n",
      "Requirement already satisfied: zipp>=0.5 in c:\\users\\preet\\myenv\\lib\\site-packages (from importlib-metadata!=4.7.0,<8,>=3.7.0->mlflow) (3.17.0)\n",
      "Requirement already satisfied: MarkupSafe>=2.0 in c:\\users\\preet\\myenv\\lib\\site-packages (from Jinja2<4,>=3.0->mlflow) (2.1.3)\n",
      "Requirement already satisfied: contourpy>=1.0.1 in c:\\users\\preet\\myenv\\lib\\site-packages (from matplotlib<4->mlflow) (1.1.1)\n",
      "Requirement already satisfied: cycler>=0.10 in c:\\users\\preet\\myenv\\lib\\site-packages (from matplotlib<4->mlflow) (0.12.1)\n",
      "Requirement already satisfied: fonttools>=4.22.0 in c:\\users\\preet\\myenv\\lib\\site-packages (from matplotlib<4->mlflow) (4.47.0)\n",
      "Requirement already satisfied: kiwisolver>=1.0.1 in c:\\users\\preet\\myenv\\lib\\site-packages (from matplotlib<4->mlflow) (1.4.5)\n",
      "Requirement already satisfied: pillow>=6.2.0 in c:\\users\\preet\\myenv\\lib\\site-packages (from matplotlib<4->mlflow) (10.2.0)\n",
      "Requirement already satisfied: pyparsing>=2.3.1 in c:\\users\\preet\\myenv\\lib\\site-packages (from matplotlib<4->mlflow) (3.1.1)\n",
      "Requirement already satisfied: python-dateutil>=2.7 in c:\\users\\preet\\myenv\\lib\\site-packages (from matplotlib<4->mlflow) (2.8.2)\n",
      "Requirement already satisfied: tzdata>=2022.1 in c:\\users\\preet\\myenv\\lib\\site-packages (from pandas<3->mlflow) (2023.4)\n",
      "Requirement already satisfied: charset-normalizer<4,>=2 in c:\\users\\preet\\myenv\\lib\\site-packages (from requests<3,>=2.17.3->mlflow) (3.3.2)\n",
      "Requirement already satisfied: idna<4,>=2.5 in c:\\users\\preet\\myenv\\lib\\site-packages (from requests<3,>=2.17.3->mlflow) (3.6)\n",
      "Requirement already satisfied: certifi>=2017.4.17 in c:\\users\\preet\\myenv\\lib\\site-packages (from requests<3,>=2.17.3->mlflow) (2023.11.17)\n",
      "Requirement already satisfied: joblib>=1.1.1 in c:\\users\\preet\\myenv\\lib\\site-packages (from scikit-learn<2->mlflow) (1.3.2)\n",
      "Requirement already satisfied: threadpoolctl>=2.0.0 in c:\\users\\preet\\myenv\\lib\\site-packages (from scikit-learn<2->mlflow) (3.2.0)\n",
      "Requirement already satisfied: greenlet!=0.4.17 in c:\\users\\preet\\myenv\\lib\\site-packages (from sqlalchemy<3,>=1.4.0->mlflow) (3.0.3)\n",
      "Requirement already satisfied: smmap<6,>=3.0.1 in c:\\users\\preet\\myenv\\lib\\site-packages (from gitdb<5,>=4.0.1->gitpython<4,>=2.1.0->mlflow) (5.0.1)\n"
     ]
    },
    {
     "name": "stderr",
     "output_type": "stream",
     "text": [
      "WARNING: Ignoring invalid distribution -ython-box (c:\\users\\preet\\myenv\\lib\\site-packages)\n",
      "WARNING: Ignoring invalid distribution -ython-box (c:\\users\\preet\\myenv\\lib\\site-packages)\n"
     ]
    },
    {
     "name": "stdout",
     "output_type": "stream",
     "text": [
      "Requirement already satisfied: numpy in c:\\users\\preet\\myenv\\lib\\site-packages (1.24.4)\n"
     ]
    },
    {
     "name": "stderr",
     "output_type": "stream",
     "text": [
      "WARNING: Ignoring invalid distribution -ython-box (c:\\users\\preet\\myenv\\lib\\site-packages)\n",
      "WARNING: Ignoring invalid distribution -ython-box (c:\\users\\preet\\myenv\\lib\\site-packages)\n"
     ]
    },
    {
     "name": "stdout",
     "output_type": "stream",
     "text": [
      "Requirement already satisfied: notebook in c:\\users\\preet\\myenv\\lib\\site-packages (7.0.6)\n",
      "Requirement already satisfied: jupyter-server<3,>=2.4.0 in c:\\users\\preet\\myenv\\lib\\site-packages (from notebook) (2.12.2)\n",
      "Requirement already satisfied: jupyterlab-server<3,>=2.22.1 in c:\\users\\preet\\myenv\\lib\\site-packages (from notebook) (2.25.2)\n",
      "Requirement already satisfied: jupyterlab<5,>=4.0.2 in c:\\users\\preet\\myenv\\lib\\site-packages (from notebook) (4.0.10)\n",
      "Requirement already satisfied: notebook-shim<0.3,>=0.2 in c:\\users\\preet\\myenv\\lib\\site-packages (from notebook) (0.2.3)\n",
      "Requirement already satisfied: tornado>=6.2.0 in c:\\users\\preet\\myenv\\lib\\site-packages (from notebook) (6.2)\n",
      "Requirement already satisfied: anyio>=3.1.0 in c:\\users\\preet\\myenv\\lib\\site-packages (from jupyter-server<3,>=2.4.0->notebook) (4.2.0)\n",
      "Requirement already satisfied: argon2-cffi in c:\\users\\preet\\myenv\\lib\\site-packages (from jupyter-server<3,>=2.4.0->notebook) (23.1.0)\n",
      "Requirement already satisfied: jinja2 in c:\\users\\preet\\myenv\\lib\\site-packages (from jupyter-server<3,>=2.4.0->notebook) (3.1.2)\n",
      "Requirement already satisfied: jupyter-client>=7.4.4 in c:\\users\\preet\\myenv\\lib\\site-packages (from jupyter-server<3,>=2.4.0->notebook) (8.6.0)\n",
      "Requirement already satisfied: jupyter-core!=5.0.*,>=4.12 in c:\\users\\preet\\myenv\\lib\\site-packages (from jupyter-server<3,>=2.4.0->notebook) (4.12.0)\n",
      "Requirement already satisfied: jupyter-events>=0.9.0 in c:\\users\\preet\\myenv\\lib\\site-packages (from jupyter-server<3,>=2.4.0->notebook) (0.9.0)\n",
      "Requirement already satisfied: jupyter-server-terminals in c:\\users\\preet\\myenv\\lib\\site-packages (from jupyter-server<3,>=2.4.0->notebook) (0.5.1)\n",
      "Requirement already satisfied: nbconvert>=6.4.4 in c:\\users\\preet\\myenv\\lib\\site-packages (from jupyter-server<3,>=2.4.0->notebook) (7.14.0)\n",
      "Requirement already satisfied: nbformat>=5.3.0 in c:\\users\\preet\\myenv\\lib\\site-packages (from jupyter-server<3,>=2.4.0->notebook) (5.9.2)\n",
      "Requirement already satisfied: overrides in c:\\users\\preet\\myenv\\lib\\site-packages (from jupyter-server<3,>=2.4.0->notebook) (7.4.0)\n",
      "Requirement already satisfied: packaging in c:\\users\\preet\\myenv\\lib\\site-packages (from jupyter-server<3,>=2.4.0->notebook) (23.2)\n",
      "Requirement already satisfied: prometheus-client in c:\\users\\preet\\myenv\\lib\\site-packages (from jupyter-server<3,>=2.4.0->notebook) (0.19.0)\n",
      "Requirement already satisfied: pywinpty in c:\\users\\preet\\myenv\\lib\\site-packages (from jupyter-server<3,>=2.4.0->notebook) (2.0.12)\n",
      "Requirement already satisfied: pyzmq>=24 in c:\\users\\preet\\myenv\\lib\\site-packages (from jupyter-server<3,>=2.4.0->notebook) (25.1.0)\n",
      "Requirement already satisfied: send2trash>=1.8.2 in c:\\users\\preet\\myenv\\lib\\site-packages (from jupyter-server<3,>=2.4.0->notebook) (1.8.2)\n",
      "Requirement already satisfied: terminado>=0.8.3 in c:\\users\\preet\\myenv\\lib\\site-packages (from jupyter-server<3,>=2.4.0->notebook) (0.18.0)\n",
      "Requirement already satisfied: traitlets>=5.6.0 in c:\\users\\preet\\myenv\\lib\\site-packages (from jupyter-server<3,>=2.4.0->notebook) (5.14.1)\n",
      "Requirement already satisfied: websocket-client in c:\\users\\preet\\myenv\\lib\\site-packages (from jupyter-server<3,>=2.4.0->notebook) (1.7.0)\n",
      "Requirement already satisfied: async-lru>=1.0.0 in c:\\users\\preet\\myenv\\lib\\site-packages (from jupyterlab<5,>=4.0.2->notebook) (2.0.4)\n",
      "Requirement already satisfied: importlib-metadata>=4.8.3 in c:\\users\\preet\\myenv\\lib\\site-packages (from jupyterlab<5,>=4.0.2->notebook) (7.0.1)\n",
      "Requirement already satisfied: importlib-resources>=1.4 in c:\\users\\preet\\myenv\\lib\\site-packages (from jupyterlab<5,>=4.0.2->notebook) (6.1.1)\n",
      "Requirement already satisfied: ipykernel in c:\\users\\preet\\myenv\\lib\\site-packages (from jupyterlab<5,>=4.0.2->notebook) (6.28.0)\n",
      "Requirement already satisfied: jupyter-lsp>=2.0.0 in c:\\users\\preet\\myenv\\lib\\site-packages (from jupyterlab<5,>=4.0.2->notebook) (2.2.1)\n",
      "Requirement already satisfied: tomli in c:\\users\\preet\\myenv\\lib\\site-packages (from jupyterlab<5,>=4.0.2->notebook) (2.0.1)\n",
      "Requirement already satisfied: babel>=2.10 in c:\\users\\preet\\myenv\\lib\\site-packages (from jupyterlab-server<3,>=2.22.1->notebook) (2.14.0)\n",
      "Requirement already satisfied: json5>=0.9.0 in c:\\users\\preet\\myenv\\lib\\site-packages (from jupyterlab-server<3,>=2.22.1->notebook) (0.9.14)\n",
      "Requirement already satisfied: jsonschema>=4.18.0 in c:\\users\\preet\\myenv\\lib\\site-packages (from jupyterlab-server<3,>=2.22.1->notebook) (4.20.0)\n",
      "Requirement already satisfied: requests>=2.31 in c:\\users\\preet\\myenv\\lib\\site-packages (from jupyterlab-server<3,>=2.22.1->notebook) (2.31.0)\n",
      "Requirement already satisfied: idna>=2.8 in c:\\users\\preet\\myenv\\lib\\site-packages (from anyio>=3.1.0->jupyter-server<3,>=2.4.0->notebook) (3.6)\n",
      "Requirement already satisfied: sniffio>=1.1 in c:\\users\\preet\\myenv\\lib\\site-packages (from anyio>=3.1.0->jupyter-server<3,>=2.4.0->notebook) (1.3.0)\n",
      "Requirement already satisfied: exceptiongroup>=1.0.2 in c:\\users\\preet\\myenv\\lib\\site-packages (from anyio>=3.1.0->jupyter-server<3,>=2.4.0->notebook) (1.2.0)\n",
      "Requirement already satisfied: typing-extensions>=4.1 in c:\\users\\preet\\myenv\\lib\\site-packages (from anyio>=3.1.0->jupyter-server<3,>=2.4.0->notebook) (4.9.0)\n",
      "Requirement already satisfied: pytz>=2015.7 in c:\\users\\preet\\myenv\\lib\\site-packages (from babel>=2.10->jupyterlab-server<3,>=2.22.1->notebook) (2023.3.post1)\n",
      "Requirement already satisfied: zipp>=0.5 in c:\\users\\preet\\myenv\\lib\\site-packages (from importlib-metadata>=4.8.3->jupyterlab<5,>=4.0.2->notebook) (3.17.0)\n",
      "Requirement already satisfied: MarkupSafe>=2.0 in c:\\users\\preet\\myenv\\lib\\site-packages (from jinja2->jupyter-server<3,>=2.4.0->notebook) (2.1.3)\n",
      "Requirement already satisfied: attrs>=22.2.0 in c:\\users\\preet\\myenv\\lib\\site-packages (from jsonschema>=4.18.0->jupyterlab-server<3,>=2.22.1->notebook) (23.2.0)\n",
      "Requirement already satisfied: jsonschema-specifications>=2023.03.6 in c:\\users\\preet\\myenv\\lib\\site-packages (from jsonschema>=4.18.0->jupyterlab-server<3,>=2.22.1->notebook) (2023.12.1)\n",
      "Requirement already satisfied: pkgutil-resolve-name>=1.3.10 in c:\\users\\preet\\myenv\\lib\\site-packages (from jsonschema>=4.18.0->jupyterlab-server<3,>=2.22.1->notebook) (1.3.10)\n",
      "Requirement already satisfied: referencing>=0.28.4 in c:\\users\\preet\\myenv\\lib\\site-packages (from jsonschema>=4.18.0->jupyterlab-server<3,>=2.22.1->notebook) (0.32.1)\n",
      "Requirement already satisfied: rpds-py>=0.7.1 in c:\\users\\preet\\myenv\\lib\\site-packages (from jsonschema>=4.18.0->jupyterlab-server<3,>=2.22.1->notebook) (0.16.2)\n",
      "Requirement already satisfied: python-dateutil>=2.8.2 in c:\\users\\preet\\myenv\\lib\\site-packages (from jupyter-client>=7.4.4->jupyter-server<3,>=2.4.0->notebook) (2.8.2)\n",
      "Requirement already satisfied: pywin32>=1.0 in c:\\users\\preet\\myenv\\lib\\site-packages (from jupyter-core!=5.0.*,>=4.12->jupyter-server<3,>=2.4.0->notebook) (306)\n",
      "Requirement already satisfied: python-json-logger>=2.0.4 in c:\\users\\preet\\myenv\\lib\\site-packages (from jupyter-events>=0.9.0->jupyter-server<3,>=2.4.0->notebook) (2.0.7)\n",
      "Requirement already satisfied: pyyaml>=5.3 in c:\\users\\preet\\myenv\\lib\\site-packages (from jupyter-events>=0.9.0->jupyter-server<3,>=2.4.0->notebook) (6.0.1)\n",
      "Requirement already satisfied: rfc3339-validator in c:\\users\\preet\\myenv\\lib\\site-packages (from jupyter-events>=0.9.0->jupyter-server<3,>=2.4.0->notebook) (0.1.4)\n",
      "Requirement already satisfied: rfc3986-validator>=0.1.1 in c:\\users\\preet\\myenv\\lib\\site-packages (from jupyter-events>=0.9.0->jupyter-server<3,>=2.4.0->notebook) (0.1.1)\n",
      "Requirement already satisfied: beautifulsoup4 in c:\\users\\preet\\myenv\\lib\\site-packages (from nbconvert>=6.4.4->jupyter-server<3,>=2.4.0->notebook) (4.12.2)\n",
      "Requirement already satisfied: bleach!=5.0.0 in c:\\users\\preet\\myenv\\lib\\site-packages (from nbconvert>=6.4.4->jupyter-server<3,>=2.4.0->notebook) (6.1.0)\n",
      "Requirement already satisfied: defusedxml in c:\\users\\preet\\myenv\\lib\\site-packages (from nbconvert>=6.4.4->jupyter-server<3,>=2.4.0->notebook) (0.7.1)\n",
      "Requirement already satisfied: jupyterlab-pygments in c:\\users\\preet\\myenv\\lib\\site-packages (from nbconvert>=6.4.4->jupyter-server<3,>=2.4.0->notebook) (0.3.0)\n",
      "Requirement already satisfied: mistune<4,>=2.0.3 in c:\\users\\preet\\myenv\\lib\\site-packages (from nbconvert>=6.4.4->jupyter-server<3,>=2.4.0->notebook) (3.0.2)\n",
      "Requirement already satisfied: nbclient>=0.5.0 in c:\\users\\preet\\myenv\\lib\\site-packages (from nbconvert>=6.4.4->jupyter-server<3,>=2.4.0->notebook) (0.9.0)\n",
      "Requirement already satisfied: pandocfilters>=1.4.1 in c:\\users\\preet\\myenv\\lib\\site-packages (from nbconvert>=6.4.4->jupyter-server<3,>=2.4.0->notebook) (1.5.0)\n",
      "Requirement already satisfied: pygments>=2.4.1 in c:\\users\\preet\\myenv\\lib\\site-packages (from nbconvert>=6.4.4->jupyter-server<3,>=2.4.0->notebook) (2.17.2)\n",
      "Requirement already satisfied: tinycss2 in c:\\users\\preet\\myenv\\lib\\site-packages (from nbconvert>=6.4.4->jupyter-server<3,>=2.4.0->notebook) (1.2.1)\n",
      "Requirement already satisfied: fastjsonschema in c:\\users\\preet\\myenv\\lib\\site-packages (from nbformat>=5.3.0->jupyter-server<3,>=2.4.0->notebook) (2.19.1)\n",
      "Requirement already satisfied: charset-normalizer<4,>=2 in c:\\users\\preet\\myenv\\lib\\site-packages (from requests>=2.31->jupyterlab-server<3,>=2.22.1->notebook) (3.3.2)\n",
      "Requirement already satisfied: urllib3<3,>=1.21.1 in c:\\users\\preet\\myenv\\lib\\site-packages (from requests>=2.31->jupyterlab-server<3,>=2.22.1->notebook) (2.1.0)\n",
      "Requirement already satisfied: certifi>=2017.4.17 in c:\\users\\preet\\myenv\\lib\\site-packages (from requests>=2.31->jupyterlab-server<3,>=2.22.1->notebook) (2023.11.17)\n",
      "Requirement already satisfied: argon2-cffi-bindings in c:\\users\\preet\\myenv\\lib\\site-packages (from argon2-cffi->jupyter-server<3,>=2.4.0->notebook) (21.2.0)\n",
      "Requirement already satisfied: comm>=0.1.1 in c:\\users\\preet\\myenv\\lib\\site-packages (from ipykernel->jupyterlab<5,>=4.0.2->notebook) (0.2.1)\n",
      "Requirement already satisfied: debugpy>=1.6.5 in c:\\users\\preet\\myenv\\lib\\site-packages (from ipykernel->jupyterlab<5,>=4.0.2->notebook) (1.6.7)\n",
      "Requirement already satisfied: ipython>=7.23.1 in c:\\users\\preet\\myenv\\lib\\site-packages (from ipykernel->jupyterlab<5,>=4.0.2->notebook) (8.12.0)\n",
      "Requirement already satisfied: matplotlib-inline>=0.1 in c:\\users\\preet\\myenv\\lib\\site-packages (from ipykernel->jupyterlab<5,>=4.0.2->notebook) (0.1.6)\n",
      "Requirement already satisfied: nest-asyncio in c:\\users\\preet\\myenv\\lib\\site-packages (from ipykernel->jupyterlab<5,>=4.0.2->notebook) (1.5.8)\n",
      "Requirement already satisfied: psutil in c:\\users\\preet\\myenv\\lib\\site-packages (from ipykernel->jupyterlab<5,>=4.0.2->notebook) (5.9.0)\n",
      "Requirement already satisfied: six>=1.9.0 in c:\\users\\preet\\myenv\\lib\\site-packages (from bleach!=5.0.0->nbconvert>=6.4.4->jupyter-server<3,>=2.4.0->notebook) (1.16.0)\n",
      "Requirement already satisfied: webencodings in c:\\users\\preet\\myenv\\lib\\site-packages (from bleach!=5.0.0->nbconvert>=6.4.4->jupyter-server<3,>=2.4.0->notebook) (0.5.1)\n",
      "Requirement already satisfied: backcall in c:\\users\\preet\\myenv\\lib\\site-packages (from ipython>=7.23.1->ipykernel->jupyterlab<5,>=4.0.2->notebook) (0.2.0)\n",
      "Requirement already satisfied: decorator in c:\\users\\preet\\myenv\\lib\\site-packages (from ipython>=7.23.1->ipykernel->jupyterlab<5,>=4.0.2->notebook) (5.1.1)\n",
      "Requirement already satisfied: jedi>=0.16 in c:\\users\\preet\\myenv\\lib\\site-packages (from ipython>=7.23.1->ipykernel->jupyterlab<5,>=4.0.2->notebook) (0.19.1)\n",
      "Requirement already satisfied: pickleshare in c:\\users\\preet\\myenv\\lib\\site-packages (from ipython>=7.23.1->ipykernel->jupyterlab<5,>=4.0.2->notebook) (0.7.5)\n",
      "Requirement already satisfied: prompt-toolkit!=3.0.37,<3.1.0,>=3.0.30 in c:\\users\\preet\\myenv\\lib\\site-packages (from ipython>=7.23.1->ipykernel->jupyterlab<5,>=4.0.2->notebook) (3.0.42)\n",
      "Requirement already satisfied: stack-data in c:\\users\\preet\\myenv\\lib\\site-packages (from ipython>=7.23.1->ipykernel->jupyterlab<5,>=4.0.2->notebook) (0.6.2)\n",
      "Requirement already satisfied: colorama in c:\\users\\preet\\myenv\\lib\\site-packages (from ipython>=7.23.1->ipykernel->jupyterlab<5,>=4.0.2->notebook) (0.4.6)\n",
      "Requirement already satisfied: fqdn in c:\\users\\preet\\myenv\\lib\\site-packages (from jsonschema>=4.18.0->jupyterlab-server<3,>=2.22.1->notebook) (1.5.1)\n",
      "Requirement already satisfied: isoduration in c:\\users\\preet\\myenv\\lib\\site-packages (from jsonschema>=4.18.0->jupyterlab-server<3,>=2.22.1->notebook) (20.11.0)\n",
      "Requirement already satisfied: jsonpointer>1.13 in c:\\users\\preet\\myenv\\lib\\site-packages (from jsonschema>=4.18.0->jupyterlab-server<3,>=2.22.1->notebook) (2.4)\n",
      "Requirement already satisfied: uri-template in c:\\users\\preet\\myenv\\lib\\site-packages (from jsonschema>=4.18.0->jupyterlab-server<3,>=2.22.1->notebook) (1.3.0)\n",
      "Requirement already satisfied: webcolors>=1.11 in c:\\users\\preet\\myenv\\lib\\site-packages (from jsonschema>=4.18.0->jupyterlab-server<3,>=2.22.1->notebook) (1.13)\n",
      "Requirement already satisfied: cffi>=1.0.1 in c:\\users\\preet\\myenv\\lib\\site-packages (from argon2-cffi-bindings->argon2-cffi->jupyter-server<3,>=2.4.0->notebook) (1.16.0)\n",
      "Requirement already satisfied: soupsieve>1.2 in c:\\users\\preet\\myenv\\lib\\site-packages (from beautifulsoup4->nbconvert>=6.4.4->jupyter-server<3,>=2.4.0->notebook) (2.5)\n",
      "Requirement already satisfied: pycparser in c:\\users\\preet\\myenv\\lib\\site-packages (from cffi>=1.0.1->argon2-cffi-bindings->argon2-cffi->jupyter-server<3,>=2.4.0->notebook) (2.21)\n",
      "Requirement already satisfied: parso<0.9.0,>=0.8.3 in c:\\users\\preet\\myenv\\lib\\site-packages (from jedi>=0.16->ipython>=7.23.1->ipykernel->jupyterlab<5,>=4.0.2->notebook) (0.8.3)\n",
      "Requirement already satisfied: wcwidth in c:\\users\\preet\\myenv\\lib\\site-packages (from prompt-toolkit!=3.0.37,<3.1.0,>=3.0.30->ipython>=7.23.1->ipykernel->jupyterlab<5,>=4.0.2->notebook) (0.2.12)\n",
      "Requirement already satisfied: arrow>=0.15.0 in c:\\users\\preet\\myenv\\lib\\site-packages (from isoduration->jsonschema>=4.18.0->jupyterlab-server<3,>=2.22.1->notebook) (1.3.0)\n",
      "Requirement already satisfied: executing>=1.2.0 in c:\\users\\preet\\myenv\\lib\\site-packages (from stack-data->ipython>=7.23.1->ipykernel->jupyterlab<5,>=4.0.2->notebook) (2.0.1)\n",
      "Requirement already satisfied: asttokens>=2.1.0 in c:\\users\\preet\\myenv\\lib\\site-packages (from stack-data->ipython>=7.23.1->ipykernel->jupyterlab<5,>=4.0.2->notebook) (2.4.1)\n",
      "Requirement already satisfied: pure-eval in c:\\users\\preet\\myenv\\lib\\site-packages (from stack-data->ipython>=7.23.1->ipykernel->jupyterlab<5,>=4.0.2->notebook) (0.2.2)\n",
      "Requirement already satisfied: types-python-dateutil>=2.8.10 in c:\\users\\preet\\myenv\\lib\\site-packages (from arrow>=0.15.0->isoduration->jsonschema>=4.18.0->jupyterlab-server<3,>=2.22.1->notebook) (2.8.19.14)\n"
     ]
    },
    {
     "name": "stderr",
     "output_type": "stream",
     "text": [
      "WARNING: Ignoring invalid distribution -ython-box (c:\\users\\preet\\myenv\\lib\\site-packages)\n",
      "WARNING: Ignoring invalid distribution -ython-box (c:\\users\\preet\\myenv\\lib\\site-packages)\n"
     ]
    },
    {
     "name": "stdout",
     "output_type": "stream",
     "text": [
      "Requirement already satisfied: scikit-learn in c:\\users\\preet\\myenv\\lib\\site-packages (1.3.2)\n",
      "Requirement already satisfied: numpy<2.0,>=1.17.3 in c:\\users\\preet\\myenv\\lib\\site-packages (from scikit-learn) (1.24.4)\n",
      "Requirement already satisfied: scipy>=1.5.0 in c:\\users\\preet\\myenv\\lib\\site-packages (from scikit-learn) (1.10.1)\n",
      "Requirement already satisfied: joblib>=1.1.1 in c:\\users\\preet\\myenv\\lib\\site-packages (from scikit-learn) (1.3.2)\n",
      "Requirement already satisfied: threadpoolctl>=2.0.0 in c:\\users\\preet\\myenv\\lib\\site-packages (from scikit-learn) (3.2.0)\n"
     ]
    },
    {
     "name": "stderr",
     "output_type": "stream",
     "text": [
      "WARNING: Ignoring invalid distribution -ython-box (c:\\users\\preet\\myenv\\lib\\site-packages)\n",
      "WARNING: Ignoring invalid distribution -ython-box (c:\\users\\preet\\myenv\\lib\\site-packages)\n"
     ]
    },
    {
     "name": "stdout",
     "output_type": "stream",
     "text": [
      "Requirement already satisfied: matplotlib in c:\\users\\preet\\myenv\\lib\\site-packages (3.7.4)\n",
      "Requirement already satisfied: contourpy>=1.0.1 in c:\\users\\preet\\myenv\\lib\\site-packages (from matplotlib) (1.1.1)\n",
      "Requirement already satisfied: cycler>=0.10 in c:\\users\\preet\\myenv\\lib\\site-packages (from matplotlib) (0.12.1)\n",
      "Requirement already satisfied: fonttools>=4.22.0 in c:\\users\\preet\\myenv\\lib\\site-packages (from matplotlib) (4.47.0)\n",
      "Requirement already satisfied: kiwisolver>=1.0.1 in c:\\users\\preet\\myenv\\lib\\site-packages (from matplotlib) (1.4.5)\n",
      "Requirement already satisfied: numpy<2,>=1.20 in c:\\users\\preet\\myenv\\lib\\site-packages (from matplotlib) (1.24.4)\n",
      "Requirement already satisfied: packaging>=20.0 in c:\\users\\preet\\myenv\\lib\\site-packages (from matplotlib) (23.2)\n",
      "Requirement already satisfied: pillow>=6.2.0 in c:\\users\\preet\\myenv\\lib\\site-packages (from matplotlib) (10.2.0)\n",
      "Requirement already satisfied: pyparsing>=2.3.1 in c:\\users\\preet\\myenv\\lib\\site-packages (from matplotlib) (3.1.1)\n",
      "Requirement already satisfied: python-dateutil>=2.7 in c:\\users\\preet\\myenv\\lib\\site-packages (from matplotlib) (2.8.2)\n",
      "Requirement already satisfied: importlib-resources>=3.2.0 in c:\\users\\preet\\myenv\\lib\\site-packages (from matplotlib) (6.1.1)\n",
      "Requirement already satisfied: zipp>=3.1.0 in c:\\users\\preet\\myenv\\lib\\site-packages (from importlib-resources>=3.2.0->matplotlib) (3.17.0)\n",
      "Requirement already satisfied: six>=1.5 in c:\\users\\preet\\myenv\\lib\\site-packages (from python-dateutil>=2.7->matplotlib) (1.16.0)\n"
     ]
    },
    {
     "name": "stderr",
     "output_type": "stream",
     "text": [
      "WARNING: Ignoring invalid distribution -ython-box (c:\\users\\preet\\myenv\\lib\\site-packages)\n",
      "WARNING: Ignoring invalid distribution -ython-box (c:\\users\\preet\\myenv\\lib\\site-packages)\n"
     ]
    },
    {
     "name": "stdout",
     "output_type": "stream",
     "text": [
      "Requirement already satisfied: seaborn in c:\\users\\preet\\myenv\\lib\\site-packages (0.13.1)\n",
      "Requirement already satisfied: numpy!=1.24.0,>=1.20 in c:\\users\\preet\\myenv\\lib\\site-packages (from seaborn) (1.24.4)\n",
      "Requirement already satisfied: pandas>=1.2 in c:\\users\\preet\\myenv\\lib\\site-packages (from seaborn) (2.0.3)\n",
      "Requirement already satisfied: matplotlib!=3.6.1,>=3.4 in c:\\users\\preet\\myenv\\lib\\site-packages (from seaborn) (3.7.4)\n",
      "Requirement already satisfied: contourpy>=1.0.1 in c:\\users\\preet\\myenv\\lib\\site-packages (from matplotlib!=3.6.1,>=3.4->seaborn) (1.1.1)\n",
      "Requirement already satisfied: cycler>=0.10 in c:\\users\\preet\\myenv\\lib\\site-packages (from matplotlib!=3.6.1,>=3.4->seaborn) (0.12.1)\n",
      "Requirement already satisfied: fonttools>=4.22.0 in c:\\users\\preet\\myenv\\lib\\site-packages (from matplotlib!=3.6.1,>=3.4->seaborn) (4.47.0)\n",
      "Requirement already satisfied: kiwisolver>=1.0.1 in c:\\users\\preet\\myenv\\lib\\site-packages (from matplotlib!=3.6.1,>=3.4->seaborn) (1.4.5)\n",
      "Requirement already satisfied: packaging>=20.0 in c:\\users\\preet\\myenv\\lib\\site-packages (from matplotlib!=3.6.1,>=3.4->seaborn) (23.2)\n",
      "Requirement already satisfied: pillow>=6.2.0 in c:\\users\\preet\\myenv\\lib\\site-packages (from matplotlib!=3.6.1,>=3.4->seaborn) (10.2.0)\n",
      "Requirement already satisfied: pyparsing>=2.3.1 in c:\\users\\preet\\myenv\\lib\\site-packages (from matplotlib!=3.6.1,>=3.4->seaborn) (3.1.1)\n",
      "Requirement already satisfied: python-dateutil>=2.7 in c:\\users\\preet\\myenv\\lib\\site-packages (from matplotlib!=3.6.1,>=3.4->seaborn) (2.8.2)\n",
      "Requirement already satisfied: importlib-resources>=3.2.0 in c:\\users\\preet\\myenv\\lib\\site-packages (from matplotlib!=3.6.1,>=3.4->seaborn) (6.1.1)\n",
      "Requirement already satisfied: pytz>=2020.1 in c:\\users\\preet\\myenv\\lib\\site-packages (from pandas>=1.2->seaborn) (2023.3.post1)\n",
      "Requirement already satisfied: tzdata>=2022.1 in c:\\users\\preet\\myenv\\lib\\site-packages (from pandas>=1.2->seaborn) (2023.4)\n",
      "Requirement already satisfied: zipp>=3.1.0 in c:\\users\\preet\\myenv\\lib\\site-packages (from importlib-resources>=3.2.0->matplotlib!=3.6.1,>=3.4->seaborn) (3.17.0)\n",
      "Requirement already satisfied: six>=1.5 in c:\\users\\preet\\myenv\\lib\\site-packages (from python-dateutil>=2.7->matplotlib!=3.6.1,>=3.4->seaborn) (1.16.0)\n"
     ]
    },
    {
     "name": "stderr",
     "output_type": "stream",
     "text": [
      "WARNING: Ignoring invalid distribution -ython-box (c:\\users\\preet\\myenv\\lib\\site-packages)\n",
      "WARNING: Ignoring invalid distribution -ython-box (c:\\users\\preet\\myenv\\lib\\site-packages)\n"
     ]
    },
    {
     "name": "stdout",
     "output_type": "stream",
     "text": [
      "Requirement already satisfied: python-box==6.0.2 in c:\\users\\preet\\myenv\\lib\\site-packages (6.0.2)\n"
     ]
    },
    {
     "name": "stderr",
     "output_type": "stream",
     "text": [
      "WARNING: Ignoring invalid distribution -ython-box (c:\\users\\preet\\myenv\\lib\\site-packages)\n",
      "WARNING: Ignoring invalid distribution -ython-box (c:\\users\\preet\\myenv\\lib\\site-packages)\n"
     ]
    },
    {
     "name": "stdout",
     "output_type": "stream",
     "text": [
      "Requirement already satisfied: pyYAML in c:\\users\\preet\\myenv\\lib\\site-packages (6.0.1)\n"
     ]
    },
    {
     "name": "stderr",
     "output_type": "stream",
     "text": [
      "WARNING: Ignoring invalid distribution -ython-box (c:\\users\\preet\\myenv\\lib\\site-packages)\n",
      "WARNING: Ignoring invalid distribution -ython-box (c:\\users\\preet\\myenv\\lib\\site-packages)\n"
     ]
    },
    {
     "name": "stdout",
     "output_type": "stream",
     "text": [
      "Requirement already satisfied: tqdm in c:\\users\\preet\\myenv\\lib\\site-packages (4.66.1)\n",
      "Requirement already satisfied: colorama in c:\\users\\preet\\myenv\\lib\\site-packages (from tqdm) (0.4.6)\n"
     ]
    },
    {
     "name": "stderr",
     "output_type": "stream",
     "text": [
      "WARNING: Ignoring invalid distribution -ython-box (c:\\users\\preet\\myenv\\lib\\site-packages)\n",
      "WARNING: Ignoring invalid distribution -ython-box (c:\\users\\preet\\myenv\\lib\\site-packages)\n"
     ]
    },
    {
     "name": "stdout",
     "output_type": "stream",
     "text": [
      "Requirement already satisfied: ensure==1.0.2 in c:\\users\\preet\\myenv\\lib\\site-packages (1.0.2)\n",
      "Requirement already satisfied: six>=1.11.0 in c:\\users\\preet\\myenv\\lib\\site-packages (from ensure==1.0.2) (1.16.0)\n"
     ]
    },
    {
     "name": "stderr",
     "output_type": "stream",
     "text": [
      "WARNING: Ignoring invalid distribution -ython-box (c:\\users\\preet\\myenv\\lib\\site-packages)\n",
      "WARNING: Ignoring invalid distribution -ython-box (c:\\users\\preet\\myenv\\lib\\site-packages)\n"
     ]
    },
    {
     "name": "stdout",
     "output_type": "stream",
     "text": [
      "Requirement already satisfied: joblib in c:\\users\\preet\\myenv\\lib\\site-packages (1.3.2)\n"
     ]
    },
    {
     "name": "stderr",
     "output_type": "stream",
     "text": [
      "WARNING: Ignoring invalid distribution -ython-box (c:\\users\\preet\\myenv\\lib\\site-packages)\n",
      "WARNING: Ignoring invalid distribution -ython-box (c:\\users\\preet\\myenv\\lib\\site-packages)\n"
     ]
    },
    {
     "name": "stdout",
     "output_type": "stream",
     "text": [
      "Requirement already satisfied: types-pyYAML in c:\\users\\preet\\myenv\\lib\\site-packages (6.0.12.12)\n"
     ]
    },
    {
     "name": "stderr",
     "output_type": "stream",
     "text": [
      "WARNING: Ignoring invalid distribution -ython-box (c:\\users\\preet\\myenv\\lib\\site-packages)\n",
      "WARNING: Ignoring invalid distribution -ython-box (c:\\users\\preet\\myenv\\lib\\site-packages)\n"
     ]
    },
    {
     "name": "stdout",
     "output_type": "stream",
     "text": [
      "Requirement already satisfied: Flask in c:\\users\\preet\\myenv\\lib\\site-packages (3.0.0)\n",
      "Requirement already satisfied: Werkzeug>=3.0.0 in c:\\users\\preet\\myenv\\lib\\site-packages (from Flask) (3.0.1)\n",
      "Requirement already satisfied: Jinja2>=3.1.2 in c:\\users\\preet\\myenv\\lib\\site-packages (from Flask) (3.1.2)\n",
      "Requirement already satisfied: itsdangerous>=2.1.2 in c:\\users\\preet\\myenv\\lib\\site-packages (from Flask) (2.1.2)\n",
      "Requirement already satisfied: click>=8.1.3 in c:\\users\\preet\\myenv\\lib\\site-packages (from Flask) (8.1.7)\n",
      "Requirement already satisfied: blinker>=1.6.2 in c:\\users\\preet\\myenv\\lib\\site-packages (from Flask) (1.7.0)\n",
      "Requirement already satisfied: importlib-metadata>=3.6.0 in c:\\users\\preet\\myenv\\lib\\site-packages (from Flask) (7.0.1)\n",
      "Requirement already satisfied: colorama in c:\\users\\preet\\myenv\\lib\\site-packages (from click>=8.1.3->Flask) (0.4.6)\n",
      "Requirement already satisfied: zipp>=0.5 in c:\\users\\preet\\myenv\\lib\\site-packages (from importlib-metadata>=3.6.0->Flask) (3.17.0)\n",
      "Requirement already satisfied: MarkupSafe>=2.0 in c:\\users\\preet\\myenv\\lib\\site-packages (from Jinja2>=3.1.2->Flask) (2.1.3)\n"
     ]
    },
    {
     "name": "stderr",
     "output_type": "stream",
     "text": [
      "WARNING: Ignoring invalid distribution -ython-box (c:\\users\\preet\\myenv\\lib\\site-packages)\n",
      "WARNING: Ignoring invalid distribution -ython-box (c:\\users\\preet\\myenv\\lib\\site-packages)\n"
     ]
    },
    {
     "name": "stdout",
     "output_type": "stream",
     "text": [
      "Requirement already satisfied: Flask-Cors in c:\\users\\preet\\myenv\\lib\\site-packages (4.0.0)\n",
      "Requirement already satisfied: Flask>=0.9 in c:\\users\\preet\\myenv\\lib\\site-packages (from Flask-Cors) (3.0.0)\n",
      "Requirement already satisfied: Werkzeug>=3.0.0 in c:\\users\\preet\\myenv\\lib\\site-packages (from Flask>=0.9->Flask-Cors) (3.0.1)\n",
      "Requirement already satisfied: Jinja2>=3.1.2 in c:\\users\\preet\\myenv\\lib\\site-packages (from Flask>=0.9->Flask-Cors) (3.1.2)\n",
      "Requirement already satisfied: itsdangerous>=2.1.2 in c:\\users\\preet\\myenv\\lib\\site-packages (from Flask>=0.9->Flask-Cors) (2.1.2)\n",
      "Requirement already satisfied: click>=8.1.3 in c:\\users\\preet\\myenv\\lib\\site-packages (from Flask>=0.9->Flask-Cors) (8.1.7)\n",
      "Requirement already satisfied: blinker>=1.6.2 in c:\\users\\preet\\myenv\\lib\\site-packages (from Flask>=0.9->Flask-Cors) (1.7.0)\n",
      "Requirement already satisfied: importlib-metadata>=3.6.0 in c:\\users\\preet\\myenv\\lib\\site-packages (from Flask>=0.9->Flask-Cors) (7.0.1)\n",
      "Requirement already satisfied: colorama in c:\\users\\preet\\myenv\\lib\\site-packages (from click>=8.1.3->Flask>=0.9->Flask-Cors) (0.4.6)\n",
      "Requirement already satisfied: zipp>=0.5 in c:\\users\\preet\\myenv\\lib\\site-packages (from importlib-metadata>=3.6.0->Flask>=0.9->Flask-Cors) (3.17.0)\n",
      "Requirement already satisfied: MarkupSafe>=2.0 in c:\\users\\preet\\myenv\\lib\\site-packages (from Jinja2>=3.1.2->Flask>=0.9->Flask-Cors) (2.1.3)\n"
     ]
    },
    {
     "name": "stderr",
     "output_type": "stream",
     "text": [
      "WARNING: Ignoring invalid distribution -ython-box (c:\\users\\preet\\myenv\\lib\\site-packages)\n",
      "WARNING: Ignoring invalid distribution -ython-box (c:\\users\\preet\\myenv\\lib\\site-packages)\n"
     ]
    }
   ],
   "source": [
    "!pip install pandas\n",
    "!pip install mlflow\n",
    "!pip install numpy\n",
    "!pip install notebook\n",
    "!pip install scikit-learn\n",
    "!pip install matplotlib\n",
    "!pip install seaborn\n",
    "!pip install python-box==6.0.2\n",
    "!pip install pyYAML\n",
    "!pip install tqdm\n",
    "!pip install ensure==1.0.2\n",
    "!pip install joblib\n",
    "!pip install types-pyYAML\n",
    "!pip install Flask\n",
    "!pip install Flask-Cors\n"
   ]
  },
  {
   "cell_type": "code",
   "execution_count": 7,
   "metadata": {},
   "outputs": [
    {
     "name": "stderr",
     "output_type": "stream",
     "text": [
      "WARNING: Ignoring invalid distribution -ython-box (c:\\users\\preet\\myenv\\lib\\site-packages)\n",
      "WARNING: Ignoring invalid distribution -ython-box (c:\\users\\preet\\myenv\\lib\\site-packages)\n"
     ]
    },
    {
     "name": "stdout",
     "output_type": "stream",
     "text": [
      "Requirement already satisfied: python-box in c:\\users\\preet\\myenv\\lib\\site-packages (6.0.2)\n"
     ]
    }
   ],
   "source": [
    "!pip install python-box\n",
    "from src.MLProject.constants import *\n",
    "from src.MLProject.utils.common import read_yaml, create_directories"
   ]
  },
  {
   "cell_type": "code",
   "execution_count": 8,
   "metadata": {},
   "outputs": [],
   "source": [
    "from src.MLProject.constants import *"
   ]
  },
  {
   "cell_type": "code",
   "execution_count": 9,
   "metadata": {},
   "outputs": [],
   "source": [
    "from src.MLProject.utils.common import read_yaml, create_directories"
   ]
  },
  {
   "cell_type": "code",
   "execution_count": 14,
   "metadata": {},
   "outputs": [],
   "source": [
    "class ConfigurationManager:\n",
    "    def __init__(\n",
    "            self,\n",
    "            config_filepath = CONFIG_FILE_PATH,\n",
    "            params_filepath = PARAMS_FILE_PATH,\n",
    "            schema_filepath = SCHEMA_FILE_PATH\n",
    "    ):\n",
    "        self.config = read_yaml(config_filepath)\n",
    "        self.params = read_yaml(params_filepath)\n",
    "        self.schema = read_yaml(schema_filepath)\n",
    "\n",
    "        create_directories([self.config.artifacts_root])\n",
    "\n",
    "    def get_data_ingestion_config(self) -> DataIngestionConfig:\n",
    "        config = self.config.data_ingestion\n",
    "\n",
    "        create_directories([config.root_dir])\n",
    "\n",
    "        data_ingestion_config = DataIngestionConfig(\n",
    "            root_dir= config.root_dir,\n",
    "            source_URL= config.source_URL,\n",
    "            local_data_file= config.local_data_file,\n",
    "            unzip_dir= config.unzip_dir\n",
    "        )\n",
    "\n",
    "        return data_ingestion_config"
   ]
  },
  {
   "cell_type": "code",
   "execution_count": 15,
   "metadata": {},
   "outputs": [],
   "source": [
    "import os\n",
    "import urllib.request as request\n",
    "import zipfile\n",
    "from src.MLProject import logger\n",
    "from src.MLProject.utils.common import get_size"
   ]
  },
  {
   "cell_type": "code",
   "execution_count": 16,
   "metadata": {},
   "outputs": [],
   "source": [
    "class DataIngestion:\n",
    "    def __init__(self, config: DataIngestionConfig):\n",
    "        self.config = config\n",
    "\n",
    "    def download_file(self):\n",
    "        if not os.path.exists(self.config.local_data_file):\n",
    "            filename, headers = request.urlretrieve(\n",
    "                url= self.config.source_URL,\n",
    "                filename=self.config.local_data_file\n",
    "            )\n",
    "\n",
    "            logger.info(f\"{filename} download! with following info: \\n{headers}\")\n",
    "\n",
    "        else:\n",
    "            logger.info(f\"File already exists of size: {get_size(Path(self.config.local_data_file))}\")\n",
    "\n",
    "\n",
    "    def extract_zip_file(self):\n",
    "        \"\"\"\n",
    "        Extract Zip into data directory\n",
    "        \"\"\"\n",
    "        unzip_path = self.config.unzip_dir\n",
    "        os.makedirs(unzip_path, exist_ok=True)\n",
    "        with zipfile.ZipFile(self.config.local_data_file,'r') as zip_ref:\n",
    "            zip_ref.extractall(unzip_path)"
   ]
  },
  {
   "cell_type": "code",
   "execution_count": 18,
   "metadata": {},
   "outputs": [
    {
     "name": "stdout",
     "output_type": "stream",
     "text": [
      "[2024-01-09 09:49:57,543: INFO: common: yaml file: config\\config.yaml load successfully]\n",
      "[2024-01-09 09:49:57,554: INFO: common: yaml file: params.yaml load successfully]\n",
      "[2024-01-09 09:49:57,559: INFO: common: yaml file: schema.yaml load successfully]\n",
      "[2024-01-09 09:49:57,564: INFO: common: created directory at: artifacts]\n",
      "[2024-01-09 09:49:57,566: INFO: common: created directory at: artifacts/data_ingestion]\n",
      "[2024-01-09 09:49:58,109: INFO: 2588553585: artifacts/data_ingestion/data.zip download! with following info: \n",
      "Connection: close\n",
      "Content-Length: 21984\n",
      "Cache-Control: max-age=300\n",
      "Content-Security-Policy: default-src 'none'; style-src 'unsafe-inline'; sandbox\n",
      "Content-Type: application/zip\n",
      "ETag: \"85a38be3d4c70e3b6dc97fc47873623da88c9b850e1526aeb57ff236bdd2815c\"\n",
      "Strict-Transport-Security: max-age=31536000\n",
      "X-Content-Type-Options: nosniff\n",
      "X-Frame-Options: deny\n",
      "X-XSS-Protection: 1; mode=block\n",
      "X-GitHub-Request-Id: 1ABC:7C0B:432E83:53013D:659D5D17\n",
      "Accept-Ranges: bytes\n",
      "Date: Tue, 09 Jan 2024 14:49:59 GMT\n",
      "Via: 1.1 varnish\n",
      "X-Served-By: cache-yyz4576-YYZ\n",
      "X-Cache: MISS\n",
      "X-Cache-Hits: 0\n",
      "X-Timer: S1704811800.735677,VS0,VE103\n",
      "Vary: Authorization,Accept-Encoding,Origin\n",
      "Access-Control-Allow-Origin: *\n",
      "Cross-Origin-Resource-Policy: cross-origin\n",
      "X-Fastly-Request-ID: 9619f02aa3411d8e0a801f9c0b509d5a46430dea\n",
      "Expires: Tue, 09 Jan 2024 14:54:59 GMT\n",
      "Source-Age: 0\n",
      "\n",
      "]\n"
     ]
    }
   ],
   "source": [
    "try:\n",
    "    config = ConfigurationManager()\n",
    "    data_ingestion_config = config.get_data_ingestion_config()\n",
    "    data_ingestion = DataIngestion(config=data_ingestion_config)\n",
    "    data_ingestion.download_file()\n",
    "    data_ingestion.extract_zip_file()\n",
    "\n",
    "except Exception as e:\n",
    "    raise e"
   ]
  },
  {
   "cell_type": "code",
   "execution_count": null,
   "metadata": {},
   "outputs": [],
   "source": []
  }
 ],
 "metadata": {
  "kernelspec": {
   "display_name": "Python 3",
   "language": "python",
   "name": "python3"
  },
  "language_info": {
   "codemirror_mode": {
    "name": "ipython",
    "version": 3
   },
   "file_extension": ".py",
   "mimetype": "text/x-python",
   "name": "python",
   "nbconvert_exporter": "python",
   "pygments_lexer": "ipython3",
   "version": "3.8.0"
  }
 },
 "nbformat": 4,
 "nbformat_minor": 2
}
